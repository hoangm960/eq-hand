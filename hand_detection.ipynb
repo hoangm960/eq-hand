{
 "cells": [
  {
   "cell_type": "code",
   "execution_count": 7,
   "id": "01f8cea8",
   "metadata": {},
   "outputs": [],
   "source": [
    "import cv2\n",
    "from cvzone.HandTrackingModule import HandDetector"
   ]
  },
  {
   "cell_type": "code",
   "execution_count": 3,
   "id": "47d0f0a8",
   "metadata": {},
   "outputs": [],
   "source": [
    "detector = HandDetector(detectionCon=0.7, maxHands=2)"
   ]
  },
  {
   "cell_type": "code",
   "execution_count": 10,
   "id": "5e30df44",
   "metadata": {},
   "outputs": [],
   "source": [
    "cap = cv2.VideoCapture(0)\n",
    "cap.set(3, 1280)\n",
    "cap.set(4, 720)\n",
    "\n",
    "while True:\n",
    "    success, img = cap.read()\n",
    "    if not success:\n",
    "        break\n",
    "\n",
    "    hands, img = detector.findHands(img)\n",
    "\n",
    "    if len(hands) == 2:\n",
    "        hand1, hand2 = hands\n",
    "        if hand1[\"center\"][0] < hand2[\"center\"][0]:\n",
    "            left_hand = hand1\n",
    "            right_hand = hand2\n",
    "        else:\n",
    "            left_hand = hand2\n",
    "            right_hand = hand1\n",
    "\n",
    "        fingers_left = detector.fingersUp(left_hand)\n",
    "        freq_band = \"none\"\n",
    "        if fingers_left == [0, 0, 0, 0, 0]:\n",
    "            freq_band = \"bass\"\n",
    "        elif fingers_left == [0, 1, 0, 0, 0]:\n",
    "            freq_band = \"mid\"\n",
    "        elif fingers_left == [0, 0, 0, 0, 1, ]:\n",
    "            freq_band = \"treble\"\n",
    "\n",
    "        if freq_band != \"none\":\n",
    "            distance, info, img = detector.findDistance(\n",
    "                right_hand[\"lmList\"][8][:-1], right_hand[\"lmList\"][4][:-1], img)\n",
    "            gain = max(0, min(100, int(distance * 0.5)))\n",
    "        else:\n",
    "            gain = 0\n",
    "\n",
    "        cv2.putText(img, f\"Freq Band: {freq_band}\", (10, 70),\n",
    "                    cv2.FONT_HERSHEY_PLAIN, 3, (255, 0, 255), 3,)\n",
    "        cv2.putText(img, f\"Gain (Distance): {gain}\", (10, 110),\n",
    "                    cv2.FONT_HERSHEY_PLAIN, 3, (255, 0, 255), 3,)\n",
    "\n",
    "    cv2.imshow(\"Hand Gesture Equalizer Control\", img)\n",
    "\n",
    "    if cv2.waitKey(1) & 0xFF == ord(\"q\"):\n",
    "        break\n",
    "\n",
    "cap.release()\n",
    "cv2.destroyAllWindows()"
   ]
  }
 ],
 "metadata": {
  "kernelspec": {
   "display_name": ".venv",
   "language": "python",
   "name": "python3"
  },
  "language_info": {
   "codemirror_mode": {
    "name": "ipython",
    "version": 3
   },
   "file_extension": ".py",
   "mimetype": "text/x-python",
   "name": "python",
   "nbconvert_exporter": "python",
   "pygments_lexer": "ipython3",
   "version": "3.12.10"
  }
 },
 "nbformat": 4,
 "nbformat_minor": 5
}
