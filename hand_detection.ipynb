{
 "cells": [
  {
   "cell_type": "code",
   "execution_count": 5,
   "id": "01f8cea8",
   "metadata": {},
   "outputs": [],
   "source": [
    "import cv2\n",
    "from cvzone.HandTrackingModule import HandDetector\n",
    "import numpy as np\n",
    "import math"
   ]
  },
  {
   "cell_type": "code",
   "execution_count": 2,
   "id": "47d0f0a8",
   "metadata": {},
   "outputs": [],
   "source": [
    "detector = HandDetector(detectionCon=0.7, maxHands=2)"
   ]
  },
  {
   "cell_type": "code",
   "execution_count": 48,
   "id": "5e30df44",
   "metadata": {},
   "outputs": [],
   "source": [
    "cap = cv2.VideoCapture(0)\n",
    "cap.set(3, 1280)\n",
    "cap.set(4, 720)\n",
    "\n",
    "while True:\n",
    "    success, img = cap.read()\n",
    "    if not success:\n",
    "        break\n",
    "\n",
    "    hands, img = detector.findHands(img)\n",
    "\n",
    "    if len(hands) == 2:\n",
    "        hand1, hand2 = hands\n",
    "        if hand1[\"center\"][0] < hand2[\"center\"][0]:\n",
    "            left_hand = hand2\n",
    "            right_hand = hand1\n",
    "        else:\n",
    "            left_hand = hand1\n",
    "            right_hand = hand2\n",
    "\n",
    "        fingers_left = detector.fingersUp(left_hand)\n",
    "        freq_band = \"none\"\n",
    "        if fingers_left == [0, 0, 0, 0, 0]:\n",
    "            freq_band = \"bass\"\n",
    "        elif fingers_left == [0, 1, 0, 0, 0]:\n",
    "            freq_band = \"mid\"\n",
    "        elif fingers_left == [0, 0, 0, 0, 1]:\n",
    "            freq_band = \"treble\"\n",
    "        elif fingers_left == [1, 1, 1, 1, 1]:\n",
    "            freq_band = \"all\"\n",
    "\n",
    "        if freq_band in [\"bass\", \"mid\", \"treble\"]:\n",
    "            distance, info, img = detector.findDistance(\n",
    "                right_hand[\"lmList\"][8][:-1], right_hand[\"lmList\"][4][:-1], img)\n",
    "            gain = max(0, min(100, int(distance * 0.5)))\n",
    "        elif freq_band == \"all\":\n",
    "            wrist = np.array(right_hand['lmList'][0])\n",
    "            middle_tip = np.array(right_hand['lmList'][12])\n",
    "\n",
    "            dx = middle_tip[0] - wrist[0]\n",
    "            dy = middle_tip[1] - wrist[1]\n",
    "            angle = -math.degrees(math.atan2(dy, dx)) - 90\n",
    "            angle_clamped = max(-50, min(50, angle))\n",
    "            gain = int(angle_clamped/50*100)\n",
    "        else:\n",
    "            gain = 0\n",
    "\n",
    "        cv2.putText(img, f\"Freq Band: {freq_band}\", (10, 70),\n",
    "                    cv2.FONT_HERSHEY_PLAIN, 3, (255, 0, 255), 3,)\n",
    "        cv2.putText(img, f\"Gain (Distance): {gain}\", (10, 110),\n",
    "                    cv2.FONT_HERSHEY_PLAIN, 3, (255, 0, 255), 3,)\n",
    "\n",
    "    cv2.imshow(\"Hand Gesture Equalizer Control\", img)\n",
    "\n",
    "    if cv2.waitKey(1) & 0xFF == ord(\"q\"):\n",
    "        break\n",
    "\n",
    "cap.release()\n",
    "cv2.destroyAllWindows()"
   ]
  }
 ],
 "metadata": {
  "kernelspec": {
   "display_name": ".venv",
   "language": "python",
   "name": "python3"
  },
  "language_info": {
   "codemirror_mode": {
    "name": "ipython",
    "version": 3
   },
   "file_extension": ".py",
   "mimetype": "text/x-python",
   "name": "python",
   "nbconvert_exporter": "python",
   "pygments_lexer": "ipython3",
   "version": "3.12.10"
  }
 },
 "nbformat": 4,
 "nbformat_minor": 5
}
