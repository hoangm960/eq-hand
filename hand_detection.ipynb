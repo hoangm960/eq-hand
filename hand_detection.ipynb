{
 "cells": [
  {
   "cell_type": "code",
   "execution_count": 41,
   "id": "01f8cea8",
   "metadata": {},
   "outputs": [],
   "source": [
    "import cv2\n",
    "from cvzone.HandTrackingModule import HandDetector\n",
    "import numpy as np\n",
    "import math\n",
    "import sounddevice as sd"
   ]
  },
  {
   "cell_type": "code",
   "execution_count": 42,
   "id": "47d0f0a8",
   "metadata": {},
   "outputs": [],
   "source": [
    "detector = HandDetector(detectionCon=0.8, maxHands=2)"
   ]
  },
  {
   "cell_type": "code",
   "execution_count": 43,
   "id": "9138a864",
   "metadata": {},
   "outputs": [],
   "source": [
    "GESTURE = {\n",
    "    \"bass\": [0, 0, 0, 0, 0],\n",
    "    \"mid\": [0, 1, 0, 0, 0],\n",
    "    \"treble\": [0, 0, 0, 0, 1],\n",
    "    \"all\": [1, 1, 1, 1, 1],\n",
    "    \"toggle\": [1, 1, 0, 0, 1]  # gesture to turn on/off adjustment mode\n",
    "}"
   ]
  },
  {
   "cell_type": "code",
   "execution_count": 44,
   "id": "5d0de21c",
   "metadata": {},
   "outputs": [],
   "source": [
    "EQ_RANGE = [0, 100]\n",
    "VOLUME_RANGE = (-50, 50)\n",
    "INITIAL_VOLUME_ANGLE = 60"
   ]
  },
  {
   "cell_type": "code",
   "execution_count": 45,
   "id": "5b1c5f93",
   "metadata": {},
   "outputs": [],
   "source": [
    "audio_file = 'playlist\\Gusto.mp3'"
   ]
  },
  {
   "cell_type": "code",
   "execution_count": 46,
   "id": "97ed265e",
   "metadata": {},
   "outputs": [
    {
     "name": "stdout",
     "output_type": "stream",
     "text": [
      "File exists!\n"
     ]
    }
   ],
   "source": [
    "import os\n",
    "if os.path.exists(audio_file):\n",
    "    print(\"File exists!\")\n",
    "else:\n",
    "    print(\"File not found.\")"
   ]
  },
  {
   "cell_type": "code",
   "execution_count": 47,
   "id": "dd66d5d2",
   "metadata": {},
   "outputs": [
    {
     "name": "stdout",
     "output_type": "stream",
     "text": [
      "C:\\Users\\ADMIN\\ffmpeg\\ffmpeg-2025-05-01-git-707c04fe06-full_build\\bin\\ffmpeg.exe\n"
     ]
    }
   ],
   "source": [
    "from pydub.utils import which\n",
    "print(which(\"ffmpeg\"))\n"
   ]
  },
  {
   "cell_type": "code",
   "execution_count": 48,
   "id": "7227ef5c",
   "metadata": {},
   "outputs": [],
   "source": [
    "from EqController import EQController\n",
    "from AudioPlayer import AudioPlayer\n",
    "\n",
    "eq_controller = EQController()\n",
    "player = AudioPlayer(audio_file, eq_controller)\n",
    "\n",
    "adjust_mode = False\n",
    "prev_toggle_state = False  # to prevent flipping too fast\n",
    "toggle_cooldown = 0\n"
   ]
  },
  {
   "cell_type": "code",
   "execution_count": 49,
   "id": "c458631e",
   "metadata": {},
   "outputs": [],
   "source": [
    "import threading\n",
    "threading.Thread(target=player.play).start()"
   ]
  },
  {
   "cell_type": "code",
   "execution_count": 50,
   "id": "5e30df44",
   "metadata": {},
   "outputs": [],
   "source": [
    "cap = cv2.VideoCapture(0)\n",
    "cap.set(3, 1280)\n",
    "cap.set(4, 720)\n",
    "\n",
    "while True:\n",
    "    success, img = cap.read()\n",
    "    if not success:\n",
    "        break\n",
    "\n",
    "    hands, img = detector.findHands(img)\n",
    "\n",
    "    if len(hands) == 2:\n",
    "        hand1, hand2 = hands\n",
    "        if hand1[\"center\"][0] < hand2[\"center\"][0]:\n",
    "            left_hand = hand2\n",
    "            right_hand = hand1\n",
    "        else:\n",
    "            left_hand = hand1\n",
    "            right_hand = hand2\n",
    "\n",
    "        fingers_left = detector.fingersUp(left_hand)\n",
    "        # == Adjustment Mode == \n",
    "        if fingers_left == GESTURE[\"toggle\"]:\n",
    "            if not prev_toggle_state and toggle_cooldown == 0:\n",
    "                adjust_mode = not adjust_mode\n",
    "                toggle_cooldown = 20 # frames to prevent spamming toggle\n",
    "            prev_toggle_state = True\n",
    "        else:\n",
    "            prev_toggle_state = False\n",
    "        \n",
    "        if toggle_cooldown > 0:\n",
    "            toggle_cooldown -= 1\n",
    "\n",
    "        freq_band = \"none\" # default\n",
    "        gain = 1.0 # default\n",
    "        volume = 1.0 # default\n",
    "        if adjust_mode:\n",
    "            for control, gesture in GESTURE.items():\n",
    "                if fingers_left == gesture:\n",
    "                    freq_band = control\n",
    "\n",
    "                    if control == \"all\": # adjust the volume\n",
    "                        wrist = np.array(right_hand['lmList'][0])\n",
    "                        middle_tip = np.array(right_hand['lmList'][12])\n",
    "\n",
    "                        dx = middle_tip[0] - wrist[0]\n",
    "                        dy = middle_tip[1] - wrist[1]\n",
    "                        angle = -math.degrees(math.atan2(dy, dx)) - INITIAL_VOLUME_ANGLE\n",
    "                        angle_clamped = max(\n",
    "                            VOLUME_RANGE[0], min(VOLUME_RANGE[1], angle))\n",
    "                        # gain = int(angle_clamped)\n",
    "                        volume = (angle_clamped - VOLUME_RANGE[0]) / (VOLUME_RANGE[1] - VOLUME_RANGE[0])\n",
    "                        # set band name \n",
    "                        # eq_controller.set_band(control)\n",
    "                        # eq_controller.set_gain(gain)\n",
    "                        player.set_volume(volume)\n",
    "                        # assign band name and gain\n",
    "                        # freq_band = eq_controller.get_selected_band()\n",
    "                        # gain = eq_controller.get_gains()\n",
    "                        player.get_volume()\n",
    "                        \n",
    "\n",
    "                    else: # adjust the eq\n",
    "                        distance, info, img = detector.findDistance(\n",
    "                            right_hand[\"lmList\"][8][:-1],\n",
    "                            right_hand[\"lmList\"][4][:-1],\n",
    "                            img\n",
    "                        )\n",
    "                        gain = max(EQ_RANGE[0], min(EQ_RANGE[1], int(distance * 0.5)))\n",
    "                        # set band name \n",
    "                        eq_controller.set_band(control)\n",
    "                        eq_controller.set_gain(gain)\n",
    "                        # assign band name and gain\n",
    "                        freq_band = eq_controller.get_selected_band()\n",
    "                        gain = eq_controller.get_gains()\n",
    "                    break    \n",
    "\n",
    "        cv2.putText(img, f\"Freq Band: {freq_band}\", (10, 70),\n",
    "                    cv2.FONT_HERSHEY_PLAIN, 3, (255, 0, 255), 3,)\n",
    "        cv2.putText(img, f\"Gain: {gain}\", (10, 110),\n",
    "                    cv2.FONT_HERSHEY_PLAIN, 3, (255, 0, 255), 3,)\n",
    "        cv2.putText(img, f\"Volume: {int(volume*100)} %\", (10, 150),\n",
    "                    cv2.FONT_HERSHEY_PLAIN, 3, (255, 0, 255), 3,)\n",
    "        cv2.putText(img, f\"Adjust Mode: {'ON' if adjust_mode else 'OFF'}\", (10, 190),\n",
    "            cv2.FONT_HERSHEY_PLAIN, 3, (0, 255, 0) if adjust_mode else (0, 0, 255), 3)\n",
    "\n",
    "    cv2.imshow(\"Hand Gesture Equalizer Control\", img)\n",
    "\n",
    "    if cv2.waitKey(1) & 0xFF == ord(\"q\"):\n",
    "        player.stop()\n",
    "        break\n",
    "    \n",
    "cap.release()\n",
    "cv2.destroyAllWindows()"
   ]
  }
 ],
 "metadata": {
  "kernelspec": {
   "display_name": "venv",
   "language": "python",
   "name": "python3"
  },
  "language_info": {
   "codemirror_mode": {
    "name": "ipython",
    "version": 3
   },
   "file_extension": ".py",
   "mimetype": "text/x-python",
   "name": "python",
   "nbconvert_exporter": "python",
   "pygments_lexer": "ipython3",
   "version": "3.11.1"
  }
 },
 "nbformat": 4,
 "nbformat_minor": 5
}
