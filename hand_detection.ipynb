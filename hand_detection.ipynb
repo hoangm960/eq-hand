{
 "cells": [
  {
   "cell_type": "code",
   "execution_count": 1,
   "id": "01f8cea8",
   "metadata": {},
   "outputs": [],
   "source": [
    "import cv2\n",
    "import mediapipe as mp"
   ]
  },
  {
   "cell_type": "code",
   "execution_count": 2,
   "id": "4acfbcde",
   "metadata": {},
   "outputs": [],
   "source": [
    "mp_hands = mp.solutions.hands\n",
    "mp_drawing = mp.solutions.drawing_utils"
   ]
  },
  {
   "cell_type": "code",
   "execution_count": 3,
   "id": "284ea3a9",
   "metadata": {},
   "outputs": [],
   "source": [
    "GESTURES = {\n",
    "    'FIST': 'Fist',\n",
    "    'PALM': 'Palm',\n",
    "    'THUMBS_UP': 'Thumbs Up',\n",
    "    'PEACE': 'Peace'\n",
    "}\n",
    "\n",
    "FINGER_TIPS = [4, 8, 12, 16, 20]\n",
    "FINGER_MCP = [2, 5, 9, 13, 17]\n",
    "\n",
    "\n",
    "def detect_gesture(landmarks):\n",
    "    \"\"\"\n",
    "    Simple rule-based gesture detection based on finger extension.\n",
    "    landmarks: list of normalized landmark tuples (x, y, z)\n",
    "    \"\"\"\n",
    "    # Determine if fingers are open or closed\n",
    "    fingers_open = []\n",
    "    # Thumb: compare tip x to MCP x (right hand assumption)\n",
    "    if landmarks[FINGER_TIPS[0]].x < landmarks[FINGER_MCP[0]].x:\n",
    "        fingers_open.append(True)\n",
    "    else:\n",
    "        fingers_open.append(False)\n",
    "\n",
    "    # Other fingers: compare tip y to PIP y\n",
    "    for tip_idx, mcp_idx in zip(FINGER_TIPS[1:], FINGER_MCP[1:]):\n",
    "        if landmarks[tip_idx].y < landmarks[mcp_idx].y:\n",
    "            fingers_open.append(True)\n",
    "        else:\n",
    "            fingers_open.append(False)\n",
    "\n",
    "    # Count open fingers\n",
    "    count_open = sum(fingers_open)\n",
    "\n",
    "    # Determine gesture\n",
    "    if count_open == 0:\n",
    "        return GESTURES['FIST']\n",
    "    elif count_open == 5:\n",
    "        return GESTURES['PALM']\n",
    "    elif fingers_open[0] and not any(fingers_open[1:]):\n",
    "        return GESTURES['THUMBS_UP']\n",
    "    elif fingers_open[1] and fingers_open[2] and not (fingers_open[0] or fingers_open[3] or fingers_open[4]):\n",
    "        return GESTURES['PEACE']\n",
    "    else:\n",
    "        return None"
   ]
  },
  {
   "cell_type": "code",
   "execution_count": null,
   "id": "5e30df44",
   "metadata": {},
   "outputs": [],
   "source": [
    "cap = cv2.VideoCapture(0)\n",
    "with mp_hands.Hands(\n",
    "    max_num_hands=1,\n",
    "    min_detection_confidence=0.7,\n",
    "    min_tracking_confidence=0.7) as hands:\n",
    "    while cap.isOpened():\n",
    "        ret, frame = cap.read()\n",
    "        if not ret:\n",
    "            break\n",
    "\n",
    "        # Flip and convert BGR to RGB\n",
    "        image = cv2.cvtColor(cv2.flip(frame, 1), cv2.COLOR_BGR2RGB)\n",
    "        image.flags.writeable = False\n",
    "\n",
    "        # Process image\n",
    "        results = hands.process(image)\n",
    "\n",
    "        # Draw and annotate\n",
    "        image.flags.writeable = True\n",
    "        image = cv2.cvtColor(image, cv2.COLOR_RGB2BGR)\n",
    "\n",
    "        if results.multi_hand_landmarks:\n",
    "            for hand_landmarks in results.multi_hand_landmarks:\n",
    "                mp_drawing.draw_landmarks(\n",
    "                    image, hand_landmarks, mp_hands.HAND_CONNECTIONS)\n",
    "\n",
    "                gesture = detect_gesture(hand_landmarks.landmark)\n",
    "                if gesture:\n",
    "                    # Display gesture\n",
    "                    cv2.putText(image, gesture, (10, 30),\n",
    "                                cv2.FONT_HERSHEY_SIMPLEX, 1, (0, 255, 0), 2)\n",
    "\n",
    "        cv2.imshow('Hand Gesture Detection', image)\n",
    "        if cv2.waitKey(5) & 0xFF == 27:\n",
    "            break\n",
    "\n",
    "cap.release()\n",
    "cv2.destroyAllWindows()"
   ]
  }
 ],
 "metadata": {
  "kernelspec": {
   "display_name": ".venv",
   "language": "python",
   "name": "python3"
  },
  "language_info": {
   "codemirror_mode": {
    "name": "ipython",
    "version": 3
   },
   "file_extension": ".py",
   "mimetype": "text/x-python",
   "name": "python",
   "nbconvert_exporter": "python",
   "pygments_lexer": "ipython3",
   "version": "3.12.10"
  }
 },
 "nbformat": 4,
 "nbformat_minor": 5
}
